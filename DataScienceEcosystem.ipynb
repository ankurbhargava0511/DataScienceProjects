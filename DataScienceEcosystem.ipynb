{
 "cells": [
  {
   "cell_type": "markdown",
   "id": "c06342af",
   "metadata": {},
   "source": [
    "# Data Science Tools and Ecosystem"
   ]
  },
  {
   "cell_type": "markdown",
   "id": "c39043fc",
   "metadata": {},
   "source": [
    "In this notebook, Data Science Tools and Ecosystem are summarized."
   ]
  },
  {
   "cell_type": "markdown",
   "id": "9200c4b0",
   "metadata": {},
   "source": [
    "Some of the popular languages that Data Scientists use are:\n",
    "1. python\n",
    "2. R\n",
    "3. C++\n",
    "4. Java\n",
    "5. Javascript"
   ]
  },
  {
   "cell_type": "markdown",
   "id": "9e254645",
   "metadata": {},
   "source": [
    "Some of the commonly used libraries used by Data Scientists include:\n",
    "1. Numpy\n",
    "2. Panda\n",
    "3. Matplotlab\n",
    "4. Seaborn "
   ]
  },
  {
   "cell_type": "markdown",
   "id": "8a2449e8",
   "metadata": {},
   "source": [
    "\n",
    "| Data Science Tools | \n",
    "| -------------| \n",
    "| mongoDB |\n",
    "| MySQL | \n",
    "| Kafka |\n",
    "| Git |"
   ]
  },
  {
   "cell_type": "markdown",
   "id": "2ae75426",
   "metadata": {},
   "source": [
    "### Below are a few examples of evaluating arithmetic expressions in Python"
   ]
  },
  {
   "cell_type": "code",
   "execution_count": 1,
   "id": "cef664a1",
   "metadata": {},
   "outputs": [
    {
     "data": {
      "text/plain": [
       "17"
      ]
     },
     "execution_count": 1,
     "metadata": {},
     "output_type": "execute_result"
    }
   ],
   "source": [
    "# This a simple arithmetic expression to mutiply then add integers\n",
    "(3*4)+5"
   ]
  },
  {
   "cell_type": "code",
   "execution_count": 2,
   "id": "3ed82c07",
   "metadata": {},
   "outputs": [
    {
     "data": {
      "text/plain": [
       "3.3333333333333335"
      ]
     },
     "execution_count": 2,
     "metadata": {},
     "output_type": "execute_result"
    }
   ],
   "source": [
    "#This will convert 200 minutes to hours by diving by 60\n",
    "200/60"
   ]
  },
  {
   "cell_type": "markdown",
   "id": "5659ee17",
   "metadata": {},
   "source": [
    "**Objectives:** List popular languages for Data Science\n",
    "- Java\n",
    "- Python\n",
    "- R\n",
    "- C++\n",
    "- Javascript"
   ]
  },
  {
   "cell_type": "markdown",
   "id": "4447af46",
   "metadata": {},
   "source": [
    "## Author\n",
    "Ankur Bhargava"
   ]
  },
  {
   "cell_type": "code",
   "execution_count": null,
   "id": "e9299940",
   "metadata": {},
   "outputs": [],
   "source": []
  }
 ],
 "metadata": {
  "kernelspec": {
   "display_name": "Python 3 (ipykernel)",
   "language": "python",
   "name": "python3"
  },
  "language_info": {
   "codemirror_mode": {
    "name": "ipython",
    "version": 3
   },
   "file_extension": ".py",
   "mimetype": "text/x-python",
   "name": "python",
   "nbconvert_exporter": "python",
   "pygments_lexer": "ipython3",
   "version": "3.11.3"
  }
 },
 "nbformat": 4,
 "nbformat_minor": 5
}
